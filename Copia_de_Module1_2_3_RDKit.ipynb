{
  "cells": [
    {
      "cell_type": "markdown",
      "metadata": {
        "id": "view-in-github",
        "colab_type": "text"
      },
      "source": [
        "<a href=\"https://colab.research.google.com/github/fonsmarta/Curso-QSAR/blob/main/Copia_de_Module1_2_3_RDKit.ipynb\" target=\"_parent\"><img src=\"https://colab.research.google.com/assets/colab-badge.svg\" alt=\"Open In Colab\"/></a>"
      ]
    },
    {
      "cell_type": "markdown",
      "metadata": {
        "id": "a59b2543"
      },
      "source": [
        "# Machine learning methods for drug discovery and toxicology\n",
        "# Module 1: Python for chemoinformatics"
      ],
      "id": "a59b2543"
    },
    {
      "cell_type": "markdown",
      "metadata": {
        "id": "cf6f496f"
      },
      "source": [
        "In this module, we will have a first approximation of the usage of Python in the field of chemoinformatics, focusing on the Python library RDKit, which is a powerful toolkit specifically designed for cheminformatics and molecular modeling. RDKit offers a wide array of tools and functions that enable researchers and professionals in the field to manipulate, analyze, and visualize chemical data with ease.\n",
        "\n",
        "Throughout this module, you will explore the fundamental concepts and practical applications of RDKit, from handling molecular structures, calculating essential chemical properties, to database exploration and molecular visualization. By the end of this module, you will have gained valuable insights into how Python, coupled with RDKit, can streamline chemoinformatics workflows, making it an indispensable resource for those working in the chemical and pharmaceutical industries, computational chemistry, and more."
      ],
      "id": "cf6f496f"
    },
    {
      "cell_type": "markdown",
      "metadata": {
        "id": "207c7cfc"
      },
      "source": [
        "# Preliminary: Preparation of the environment\n",
        "Before proceeding to develop the QSAR model, we need to set up the notebook to have access to the packages and modules needed. Please execute the following cells to prepare the environment. Note that a few of this will take some time to run, so feel free to execute them before the practical sessions starts.\n",
        "\n",
        "In first place, we are going to install conda (and in particular a Google colab, specific version)\n"
      ],
      "id": "207c7cfc"
    },
    {
      "cell_type": "code",
      "execution_count": null,
      "metadata": {
        "id": "6d4eb681"
      },
      "outputs": [],
      "source": [
        "#@title\n",
        "!pip install -q condacolab\n",
        "import condacolab\n",
        "condacolab.install()"
      ],
      "id": "6d4eb681"
    },
    {
      "cell_type": "markdown",
      "metadata": {
        "id": "b77e3e0d"
      },
      "source": [
        "After conda is installed, we use conda to install a few relevant python packages (this will take some time):"
      ],
      "id": "b77e3e0d"
    },
    {
      "cell_type": "code",
      "execution_count": null,
      "metadata": {
        "id": "11aafff8"
      },
      "outputs": [],
      "source": [
        "#@title\n",
        "\n",
        "!conda install rdkit=2023.9.4\n"
      ],
      "id": "11aafff8"
    },
    {
      "cell_type": "markdown",
      "metadata": {
        "id": "bf6df85b"
      },
      "source": [
        "The third step is to import some of the modules that we are going to use along the course.\n",
        "Also, we are going to mount the google drive unit, where the course files are, so you can access it through this course.\n",
        "\n"
      ],
      "id": "bf6df85b"
    },
    {
      "cell_type": "code",
      "execution_count": null,
      "metadata": {
        "id": "0vk7AMr--mMu"
      },
      "outputs": [],
      "source": [
        "import matplotlib.pyplot as plt\n",
        "\n",
        "# the next line is used to display the plots directly in the jupyter notebook\n",
        "%matplotlib inline\n",
        "\n",
        "\n",
        "import pandas as pd\n",
        "df_check = pd.read_csv(\"/content/sample_data/california_housing_test.csv\",sep=',')\n",
        "\n",
        "df_check"
      ],
      "id": "0vk7AMr--mMu"
    },
    {
      "cell_type": "code",
      "execution_count": null,
      "metadata": {
        "id": "876cdcca"
      },
      "outputs": [],
      "source": [
        "import os\n",
        "\n",
        "## Modify with the right path to the folder where all the files are going to be stored and uncomment the next line\n",
        "# if you upload your file directly, decomment next line:\n",
        "PATH = \"/content/\"\n",
        "\n",
        "# elif you use GoogleDrive, decomment next lines:\n",
        "from google.colab import drive\n",
        "# drive.mount('/content/drive')\n",
        "# PATH = \"/content/drive/your_folder/\""
      ],
      "id": "876cdcca"
    },
    {
      "cell_type": "markdown",
      "metadata": {
        "id": "m8gAWz28uJtL"
      },
      "source": [
        "Execute the next cell to upload the files provided in the course platform for this module's exercises:"
      ],
      "id": "m8gAWz28uJtL"
    },
    {
      "cell_type": "code",
      "execution_count": null,
      "metadata": {
        "id": "I9Eqdgz2uKPa"
      },
      "outputs": [],
      "source": [
        "#@title upload files\n",
        "\n",
        "from google.colab import files\n",
        "uploaded = files.upload()"
      ],
      "id": "I9Eqdgz2uKPa"
    },
    {
      "cell_type": "markdown",
      "metadata": {
        "id": "THfWjg9mb3q5"
      },
      "source": [
        "#Part 1: Cheminformatics Python Practice: Hands-On Exercises\n",
        "\n",
        "\n"
      ],
      "id": "THfWjg9mb3q5"
    },
    {
      "cell_type": "markdown",
      "metadata": {
        "id": "c4d244c2"
      },
      "source": [
        "## Section 1. Getting Started with RDKit: Managing Molecules"
      ],
      "id": "c4d244c2"
    },
    {
      "cell_type": "markdown",
      "metadata": {
        "id": "_8ww7jABTFZS"
      },
      "source": [
        "In this introductory task, we will delve into the fundamental aspects of working with molecules in cheminformatics using the RDKit library, which is a powerful Python toolkit. RDKit offers an extensive set of tools for handling molecular data, making it an invaluable resource for cheminformatics professionals.\n",
        "\n",
        "If you need more examples of exercises to do with RDKit, you can visit the starters guide provided by [RDKit](https://www.rdkit.org/docs/GettingStartedInPython.html). Additionally, whenever you encounter a problem that you don't know how to solve, we recommend consulting websites like [StackOverflow](https://stackoverflow.com/questions/tagged/rdkit), where other Python users ask their questions and get answers from other users. These resources are commonly used for code problem solving and are one of the best ways to learn, especially in the beginning."
      ],
      "id": "_8ww7jABTFZS"
    },
    {
      "cell_type": "markdown",
      "metadata": {
        "id": "e0440839"
      },
      "source": [
        "First, we have to import the Chem module from rdkit."
      ],
      "id": "e0440839"
    },
    {
      "cell_type": "code",
      "execution_count": null,
      "metadata": {
        "id": "7d5a37af"
      },
      "outputs": [],
      "source": [
        "#@title Import RDKit\n",
        "\n",
        "from rdkit import Chem"
      ],
      "id": "7d5a37af"
    },
    {
      "cell_type": "markdown",
      "metadata": {
        "id": "ef083a2a"
      },
      "source": [
        "Now, use the function `Chem.MolFromSmiles` to convert the molecule with smiles COc1cc2c(c3oc4cccc(OC(=O)c5ccc(Br)cc5)c4c(=O)c13)[C@@H]1C=CO[C@@H]1O2 into molecule format and visualize it."
      ],
      "id": "ef083a2a"
    },
    {
      "cell_type": "code",
      "execution_count": null,
      "metadata": {
        "id": "-BdE2IW1l3oq"
      },
      "outputs": [],
      "source": [
        "#@title From smiles to mol exercise\n",
        "\n",
        "# WRITE YOUR CODE HERE\n"
      ],
      "id": "-BdE2IW1l3oq"
    },
    {
      "cell_type": "code",
      "source": [
        "#@title Hint: if you need guidance for this exercise, open this code cell\n",
        "\n",
        "smi= \"COc1cc2c(c3oc4cccc(OC(=O)c5ccc(Br)cc5)c4c(=O)c13)[C@@H]1C=CO[C@@H]1O2\"\n",
        "# mol = _________  # uncomment this line and complete the code where the line is\n",
        "mol"
      ],
      "metadata": {
        "cellView": "form",
        "id": "0mbTUVs5a62v"
      },
      "id": "0mbTUVs5a62v",
      "execution_count": null,
      "outputs": []
    },
    {
      "cell_type": "markdown",
      "metadata": {
        "id": "4ae15c75"
      },
      "source": [
        "Convert the molecule back into the smiles format, but now obtaining the canonical smiles. Use the function `Chem.MolToSmiles` with the argument `isomericSmiles=False`."
      ],
      "id": "4ae15c75"
    },
    {
      "cell_type": "code",
      "execution_count": null,
      "metadata": {
        "id": "TUzbO6zHmAhC"
      },
      "outputs": [],
      "source": [
        "#@title From mol to smiles exercise\n",
        "\n",
        "# WRITE YOUR CODE HERE"
      ],
      "id": "TUzbO6zHmAhC"
    },
    {
      "cell_type": "code",
      "source": [
        "#@title Hint: if you need guidance for this exercise, open this code cell\n",
        "\n",
        "# smi_canon = Chem.MolToSmiles(mol, __________) # uncomment this line and complete the code\n",
        "print(smi_canon)"
      ],
      "metadata": {
        "id": "9kNFrsNabMoN",
        "cellView": "form"
      },
      "id": "9kNFrsNabMoN",
      "execution_count": null,
      "outputs": []
    },
    {
      "cell_type": "markdown",
      "metadata": {
        "id": "57f54abf"
      },
      "source": [
        "Now, use the function `NumValenceElectrons` from `rdkit.Chem.Descriptors` to calculate the number of valence electrons. Use directly the smiles as input."
      ],
      "id": "57f54abf"
    },
    {
      "cell_type": "code",
      "execution_count": null,
      "metadata": {
        "id": "MP3JbXjjmIEL"
      },
      "outputs": [],
      "source": [
        "#@title Number of valence electrons exercise\n",
        "\n",
        "# WRITE YOUR CODE HERE"
      ],
      "id": "MP3JbXjjmIEL"
    },
    {
      "cell_type": "code",
      "source": [
        "#@title Hint: if you need guidance for this exercise, open this code cell\n",
        "\n",
        "# Uncomment the following lines and complete the code\n",
        "\n",
        "# from rdkit.Chem.Descriptors import _________\n",
        "# NumValenceElectrons(__________)"
      ],
      "metadata": {
        "id": "9TPKiJo9btR5",
        "cellView": "form"
      },
      "id": "9TPKiJo9btR5",
      "execution_count": null,
      "outputs": []
    },
    {
      "cell_type": "markdown",
      "metadata": {
        "id": "1e97d3ed"
      },
      "source": [
        "Find out if the molecules has any chiral atoms by applying the function `FindMolChiralCenters` from `Chem`."
      ],
      "id": "1e97d3ed"
    },
    {
      "cell_type": "code",
      "execution_count": null,
      "metadata": {
        "id": "APiwppOTmL_i"
      },
      "outputs": [],
      "source": [
        "#@title Find chiral centers exercise\n",
        "\n",
        "# WRITE YOUR CODE HERE"
      ],
      "id": "APiwppOTmL_i"
    },
    {
      "cell_type": "markdown",
      "metadata": {
        "id": "a112eba0"
      },
      "source": [
        "OPTIONAL:\n",
        "Obtain a numerical fingerprint of the molecule with the function `GetMACCSKeysFingerprint` from the module `rdkit.Chem.rdMolDescriptors`. You must convert the fingerprint to a list to be able to visualize it (use the function `list()` to do that)"
      ],
      "id": "a112eba0"
    },
    {
      "cell_type": "code",
      "execution_count": null,
      "metadata": {
        "id": "zcBe_nGfmOtq"
      },
      "outputs": [],
      "source": [
        "#@title Fingerprint exercise\n",
        "\n",
        "# WRITE YOUR CODE HERE"
      ],
      "id": "zcBe_nGfmOtq"
    },
    {
      "cell_type": "code",
      "source": [
        "#@title Hint: if you need guidance for this exercise, open this code cell\n",
        "\n",
        "# Uncomment the following lines and complete the code\n",
        "\n",
        "# from rdkit.Chem.rdMolDescriptors import ________________\n",
        "\n",
        "#  fingerprint = _______________\n",
        "\n",
        "print(list(fingerprint))"
      ],
      "metadata": {
        "id": "2gNKXVOVcAzB"
      },
      "id": "2gNKXVOVcAzB",
      "execution_count": null,
      "outputs": []
    },
    {
      "cell_type": "markdown",
      "metadata": {
        "id": "42efb776"
      },
      "source": [
        "Check if the molecule has any Br atom with the function `HasSubstructMatch` from the module `Chem`."
      ],
      "id": "42efb776"
    },
    {
      "cell_type": "code",
      "execution_count": null,
      "metadata": {
        "id": "Io3xlhcnmRJy"
      },
      "outputs": [],
      "source": [
        "#@title Find element in mol exercise\n",
        "\n",
        "# WRITE YOUR CODE HERE"
      ],
      "id": "Io3xlhcnmRJy"
    },
    {
      "cell_type": "markdown",
      "metadata": {
        "id": "c99650be"
      },
      "source": [
        "## Section 2. Visualizing Molecules: 2D Representation and Molecular Grids\n",
        "\n",
        "Being able to visualize molecular structures is a crucial aspect of cheminformatics, aiding in the communication and understanding of complex chemical information. In this task we will explore some molecule representation functionalities using RDKit."
      ],
      "id": "c99650be"
    },
    {
      "cell_type": "markdown",
      "metadata": {
        "id": "jB6iCc9DYNGn"
      },
      "source": [
        "First, get the mol object from the following smiles:\n",
        "\n",
        "C1=CC=C(C(=C1)CC(=O)O)NC2=C(C=CC=C2Cl)Cl\n",
        "\n",
        "Then, using the `MolToFile` function written below, get a png file with it's 2D representation and check it out."
      ],
      "id": "jB6iCc9DYNGn"
    },
    {
      "cell_type": "code",
      "execution_count": null,
      "metadata": {
        "id": "BO659MNxYLul"
      },
      "outputs": [],
      "source": [
        "#@title Export molecule visualization exercise\n",
        "\n",
        "# Create the mol object from the smiles\n",
        "\n",
        "mol = # WRITE YOUR CODE HERE\n",
        "\n",
        "from rdkit.Chem import Draw\n",
        "Draw.MolToFile(mol,\"Diclofenac.png\",size=(200,250))"
      ],
      "id": "BO659MNxYLul"
    },
    {
      "cell_type": "markdown",
      "metadata": {
        "id": "3aE-ylAMZJhm"
      },
      "source": [
        "You can also visualize several molecules in a grid.\n",
        "\n",
        "Create a list of mol objects and use the function `MolsToGridImage` to visualize them:"
      ],
      "id": "3aE-ylAMZJhm"
    },
    {
      "cell_type": "code",
      "execution_count": null,
      "metadata": {
        "id": "Eb1IHabPZRtE"
      },
      "outputs": [],
      "source": [
        "#@title Visualize molecules in grid exercise\n",
        "\n",
        "smiles = [\n",
        "    'N#CC(OC1OC(COC2OC(CO)C(O)C(O)C2O)C(O)C(O)C1O)c1ccccc1',\n",
        "    'c1ccc2c(c1)ccc1c2ccc2c3ccccc3ccc21',\n",
        "    'C=C(C)C1Cc2c(ccc3c2OC2COc4cc(OC)c(OC)cc4C2C3=O)O1',\n",
        "    'ClC(Cl)=C(c1ccc(Cl)cc1)c1ccc(Cl)cc1'\n",
        "]\n",
        "\n",
        "# Create a list of mol objects from the smiles list\n",
        "mols = # WRITE YOUR CODE HERE\n",
        "\n",
        "# Draw your structures in a grid\n",
        "Draw.MolsToGridImage(mols, molsPerRow=2, subImgSize=(200, 200))"
      ],
      "id": "Eb1IHabPZRtE"
    },
    {
      "cell_type": "markdown",
      "metadata": {
        "id": "42mysF0a0fm5"
      },
      "source": [
        "RDKit offers the possibility to highlight a molecular fragment inside a molecule, a valuable technique for illustrating and emphasizing functional groups or key structural components.\n",
        "\n",
        "Here is an example to highlight a molecular fragment in a molecule:"
      ],
      "id": "42mysF0a0fm5"
    },
    {
      "cell_type": "code",
      "execution_count": null,
      "metadata": {
        "id": "Sx62PpOs1RpZ"
      },
      "outputs": [],
      "source": [
        "#@title Highlight molecular fragment example\n",
        "\n",
        "# Import necessary module\n",
        "from rdkit.Chem import Draw\n",
        "\n",
        "# Convert smiles to mol object\n",
        "smi = \"CCO\"\n",
        "mol = Chem.MolFromSmiles(smi)\n",
        "\n",
        "# Convert substructure smiles or smarts to substructure match\n",
        "substructure = Chem.MolFromSmarts(\"O\")\n",
        "highlight_substructure = mol.GetSubstructMatch(substructure)\n",
        "\n",
        "# See the highlighted molecule representation\n",
        "mol"
      ],
      "id": "Sx62PpOs1RpZ"
    },
    {
      "cell_type": "markdown",
      "metadata": {
        "id": "QLBRcbe3BUTr"
      },
      "source": [
        "Now, iterate through the next list of smiles and highlight in them the carboxyle group:\n",
        "\n",
        "**Note**: They will be represented in a grid, as you have seen in the previous exercise."
      ],
      "id": "QLBRcbe3BUTr"
    },
    {
      "cell_type": "code",
      "execution_count": null,
      "metadata": {
        "id": "YulMLtC0BjJy"
      },
      "outputs": [],
      "source": [
        "#@title Highlight molecular fragment exercise\n",
        "\n",
        "smiles_list = [\"OC(C(O)C(O)=O)C(O)=O\",\n",
        "               \"CCCC(CCC)C(=O)O\",\n",
        "               \"C1CCN(CC1)C2=NC(=N)N(C(=C2)N)O\",\n",
        "               \"C(=O)(C(C(C(C(C(F)(F)F)(F)F)(F)F)(F)F)(F)F)O\"]\n",
        "\n",
        "carboxyl = \"C(=O)O\"\n",
        "\n",
        "# Create a list of mol objects from the smiles list\n",
        "mols = # WRITE YOUR CODE HERE\n",
        "\n",
        "# Convert the carboxyl to a substructure object\n",
        "substructure = # WRITE YOUR CODE HERE\n",
        "# Create a list of matched substructures from the list of mols\n",
        "highlight_substructure_list = # WRITE YOUR CODE HERE\n",
        "\n",
        "# Draw your highlighted structures in a grid\n",
        "Draw.MolsToGridImage(mols, molsPerRow=2, subImgSize=(200, 200), highlightAtomLists= highlight_substructure_list)"
      ],
      "id": "YulMLtC0BjJy"
    },
    {
      "cell_type": "markdown",
      "metadata": {
        "id": "-0ugiALyaFMg"
      },
      "source": [
        "### **Q1**. Which smiles in the list does not have the carboxyl group?\n",
        "\n",
        "**Note:** You must write your answer to these questions in the training platform test."
      ],
      "id": "-0ugiALyaFMg"
    },
    {
      "cell_type": "markdown",
      "metadata": {
        "id": "BEIkhCkSUlQv"
      },
      "source": [
        "If you are interested in the different options that RDKit offers for molecule visualization, you can visit this [link](https://www.rdkit.org/docs/Cookbook.html) to find more exercises to practice."
      ],
      "id": "BEIkhCkSUlQv"
    },
    {
      "cell_type": "markdown",
      "metadata": {
        "id": "8446c0d9"
      },
      "source": [
        "## Section 3. Chemical database exploration with RDKit and Pandas\n",
        "\n",
        "In our third task, we will focus on exploring chemical databases practically. It is essential to acquire the skill of efficiently analyzing chemical data for cheminformatics. Here, we will explore some useful techniques for data exploration, including creating informative plots for data visualization.\n",
        "\n",
        "If you need any more examples or exercises with Pandas, refer to their [documentation](https://pandas.pydata.org/docs/user_guide/10min.html). They offer many examples for different uses as well as simple visualizations.\n",
        "\n"
      ],
      "id": "8446c0d9"
    },
    {
      "cell_type": "markdown",
      "metadata": {
        "id": "6a8235fd"
      },
      "source": [
        "First we have to Import the dataset \"IntroPythonChemometrics.csv\" as a DataFrame with pandas.\n",
        "\n",
        "**Note**: If you are using Google Colab to work with this Jupyter Notebook, you need to first upload the file to your Colab folder. Additionally, if you wish to keep any files obtained through your exercises, you must download them to your computer before closing the Jupyter Notebook."
      ],
      "id": "6a8235fd"
    },
    {
      "cell_type": "code",
      "execution_count": null,
      "metadata": {
        "colab": {
          "background_save": true
        },
        "id": "a548e360"
      },
      "outputs": [],
      "source": [
        "#@title Read the database\n",
        "\n",
        "df = pd.read_csv(PATH+\"/IntroPythonChemometrics.csv\", sep=';', encoding='latin-1')\n",
        "\n",
        "df.head()"
      ],
      "id": "a548e360"
    },
    {
      "cell_type": "markdown",
      "metadata": {
        "id": "691f66b3"
      },
      "source": [
        "Count the number of carcinogenic and non carcinogenic compounds, with the function `value_counts`."
      ],
      "id": "691f66b3"
    },
    {
      "cell_type": "code",
      "execution_count": null,
      "metadata": {
        "id": "jjqbvmkym2ow"
      },
      "outputs": [],
      "source": [
        "#@title Use value_counts exercise\n",
        "\n",
        "# WRITE YOUR CODE HERE"
      ],
      "id": "jjqbvmkym2ow"
    },
    {
      "cell_type": "markdown",
      "metadata": {
        "id": "NvUxhUgzTvT9"
      },
      "source": [
        "###**Q2**. How many carcinogenic molecules are in the dataset?\n",
        "\n"
      ],
      "id": "NvUxhUgzTvT9"
    },
    {
      "cell_type": "markdown",
      "metadata": {
        "id": "5ac17431"
      },
      "source": [
        "Calculate the number of carcinogenic and non-carcinogenic compounds for each category, and save them into a DataFrame named `carcinogenicity_cat`."
      ],
      "id": "5ac17431"
    },
    {
      "cell_type": "code",
      "execution_count": null,
      "metadata": {
        "id": "LlxfXnc6__Hm"
      },
      "outputs": [],
      "source": [
        "#@title Use groupby to count compounds example\n",
        "\n",
        "# Get the number of compounds for each category using groupby and size\n",
        "category_count = df.groupby('category').size()\n",
        "\n",
        "# Reset index and give the column the name: \"compound_count\"\n",
        "category_count = category_count.reset_index(name = \"compound_count\")\n",
        "\n",
        "# Print the result\n",
        "print(category_count)\n"
      ],
      "id": "LlxfXnc6__Hm"
    },
    {
      "cell_type": "code",
      "execution_count": null,
      "metadata": {
        "id": "P89xlHcwm5ue"
      },
      "outputs": [],
      "source": [
        "#@title  Use groupby to count compounds exercise\n",
        "\n",
        "# WRITE YOUR CODE HERE\n",
        "\n",
        "# Create a DataFrame with carcinogenic compounds (carcinogenicity = 1)\n",
        "\n",
        "# Get the number of compounds for each category using groupby and size\n",
        "\n",
        "# Reset index and give the column the name: \"carcinogenic_count\"\n",
        "\n",
        "\n",
        "\n",
        "# Create a DataFrame with non-carcinogenic compounds (carcinogenicity = 0)\n",
        "\n",
        "# Get the number of compounds for each category\n",
        "\n",
        "# Reset index and give the column the name: \"noncarcinogenic_count\"\n",
        "\n",
        "\n",
        "\n",
        "# Merge the two DataFrames on the \"category\" column\n",
        "\n",
        "carcinogenicity_cat = # WRITE YOUR CODE HERE\n",
        "\n",
        "# Print the resulting DataFrame\n"
      ],
      "id": "P89xlHcwm5ue"
    },
    {
      "cell_type": "markdown",
      "metadata": {
        "id": "gdG0j4cIYM5u"
      },
      "source": [
        "###**Q3**. How many categories do we have?"
      ],
      "id": "gdG0j4cIYM5u"
    },
    {
      "cell_type": "markdown",
      "metadata": {
        "id": "b97725c9"
      },
      "source": [
        "After you have built the category counts DataFrame and saved in in the `carcinogenicity_cat` variable, use the following code cell to get a visual representation of the number of carcinogenic and non-carcinogenic compounds in each category:"
      ],
      "id": "b97725c9"
    },
    {
      "cell_type": "code",
      "execution_count": null,
      "metadata": {
        "id": "S4bd2YG6F3Su"
      },
      "outputs": [],
      "source": [
        "#@title Category visualization in barplot example\n",
        "\n",
        "# Create figure\n",
        "plt.figure(figsize=(15, 8))\n",
        "\n",
        "# Plot each individual series\n",
        "plt.bar(carcinogenicity_cat[\"category\"], carcinogenicity_cat[\"carcinogenic_count\"], label=\"Carcinogenic compounds\", color = \"red\")\n",
        "plt.bar(carcinogenicity_cat[\"category\"], carcinogenicity_cat[\"noncarcinogenic_count\"],\n",
        "        bottom=carcinogenicity_cat[\"carcinogenic_count\"], label=\"Non carcinogenic compounds\", color = \"blue\")\n",
        "\n",
        "# Rotate the x-axis (category) ticks by 90 degrees\n",
        "plt.xticks(rotation=90)\n",
        "\n",
        "# Add labels, title, and legend\n",
        "plt.xlabel('Category')\n",
        "plt.ylabel('Number of Compounds')\n",
        "plt.title('Distribution of Carcinogenic and Non-carcinogenic compounds between categories')\n",
        "plt.legend()"
      ],
      "id": "S4bd2YG6F3Su"
    },
    {
      "cell_type": "markdown",
      "metadata": {
        "id": "FC8G1gjXHAOG"
      },
      "source": [
        "It can be challenging to visualize data with so many categories. However, with the code provided below, you can set a threshold for the total number of compounds in each category. This will allow you to display only the categories with a higher number of compounds, making it easier to analyze the data."
      ],
      "id": "FC8G1gjXHAOG"
    },
    {
      "cell_type": "code",
      "execution_count": null,
      "metadata": {
        "id": "jwAdOkCVHbBH"
      },
      "outputs": [],
      "source": [
        "#@title Filter only most abundant categories for visualization\n",
        "\n",
        "threshold = 50 # you can play with the threshold to see the different results\n",
        "\n",
        "\n",
        "# Merge the total count DataFrame of the example with the carcinogenicity_cat\n",
        "# you have created for the previous visualization\n",
        "merged_counts_df = carcinogenicity_cat.merge(category_count, on='category', how='inner')\n",
        "\n",
        "# Filter the categories number of coumpounds above the threshold\n",
        "filtered_counts_df = merged_counts_df[merged_counts_df['compound_count'] >= threshold]\n",
        "\n",
        "print(filtered_counts_df)\n"
      ],
      "id": "jwAdOkCVHbBH"
    },
    {
      "cell_type": "markdown",
      "metadata": {
        "id": "cKgS0JFUZNAr"
      },
      "source": [
        "Now make the stacked bar representation using the `filtered_counts_df` we have just created:"
      ],
      "id": "cKgS0JFUZNAr"
    },
    {
      "cell_type": "code",
      "execution_count": null,
      "metadata": {
        "id": "hLNW4bB_m7p5"
      },
      "outputs": [],
      "source": [
        "#@title Category visualization in barplot exercise\n",
        "\n",
        "# WRITE YOUR CODE HERE\n",
        "\n",
        "# Create figure\n",
        "\n",
        "\n",
        "# Plot the carcinogenic_count series from the filtered_df\n",
        "\n",
        "# Plot the noncarcinogenic_count series from the filtered_df on top of the previous barplot (use the \"bottom\" argument)\n",
        "\n",
        "\n",
        "# Rotate the x-axis (category) ticks by 90 degrees\n",
        "\n",
        "\n",
        "# Add labels, title, and legend\n",
        "\n",
        "\n",
        "\n"
      ],
      "id": "hLNW4bB_m7p5"
    },
    {
      "cell_type": "markdown",
      "metadata": {
        "id": "N8wqrjXQkBUD"
      },
      "source": [
        "### **Q4**. Which category has the highest number of molecules?"
      ],
      "id": "N8wqrjXQkBUD"
    },
    {
      "cell_type": "markdown",
      "metadata": {
        "id": "BfY5KdGbkfFP"
      },
      "source": [
        "Now, get only the molecules of the most abundant category and save them into a new DataFrame named `subset_df`:"
      ],
      "id": "BfY5KdGbkfFP"
    },
    {
      "cell_type": "code",
      "execution_count": null,
      "metadata": {
        "id": "nIf8tB08lUur"
      },
      "outputs": [],
      "source": [
        "#@title Get subset of df exercise\n",
        "\n",
        "# WRITE YOUR CODE HERE\n"
      ],
      "id": "nIf8tB08lUur"
    },
    {
      "cell_type": "markdown",
      "metadata": {
        "id": "b6a1eb79"
      },
      "source": [
        "Extract the smiles column with the comand iloc and visualize the first rows."
      ],
      "id": "b6a1eb79"
    },
    {
      "cell_type": "code",
      "execution_count": null,
      "metadata": {
        "id": "y0ELwI-Sm9rQ"
      },
      "outputs": [],
      "source": [
        "#@title iloc exercise\n",
        "\n",
        "# WRITE YOUR CODE HERE"
      ],
      "id": "y0ELwI-Sm9rQ"
    },
    {
      "cell_type": "markdown",
      "metadata": {
        "id": "8373ec2e"
      },
      "source": [
        "Extract the carcinogenicity directly as a series and visualize the first rows."
      ],
      "id": "8373ec2e"
    },
    {
      "cell_type": "code",
      "execution_count": null,
      "metadata": {
        "id": "ULxd1h-2m_wF"
      },
      "outputs": [],
      "source": [
        "#@title Extract series exercise\n",
        "\n",
        "# WRITE YOUR CODE HERE"
      ],
      "id": "ULxd1h-2m_wF"
    },
    {
      "cell_type": "markdown",
      "metadata": {
        "id": "e518e50b"
      },
      "source": [
        "Create a new data frame with the name `carcinogenicity_df` from the series smiles and y, applying the function concat."
      ],
      "id": "e518e50b"
    },
    {
      "cell_type": "code",
      "execution_count": null,
      "metadata": {
        "id": "a4c63G3gNzyN"
      },
      "outputs": [],
      "source": [
        "#@title Concat Series into DataFrame exercise\n",
        "\n",
        "# WRITE YOUR CODE HERE"
      ],
      "id": "a4c63G3gNzyN"
    },
    {
      "cell_type": "markdown",
      "metadata": {
        "id": "AhhIQNvPygj6"
      },
      "source": [
        "## Section 4. Chemical Property Calculations and Filtering\n",
        "\n",
        "Understanding key chemical properties is of significant importance in the field of cheminformatics. Cheminformatics professionals rely heavily on these properties to make informed decisions regarding compound selection and design. By learning how to calculate molecular properties and filter databases based on them, you'll be better equipped to analyze and manipulate chemical data. These skills are essential for tasks such as drug discovery, toxicity prediction, and material design."
      ],
      "id": "AhhIQNvPygj6"
    },
    {
      "cell_type": "markdown",
      "metadata": {
        "id": "FudgOKshr7H-"
      },
      "source": [
        "To begin, we need to determine the molecular weight of the molecules present in our `carcinogenicity_df`. We can do this by creating a function that utilizes the `MolWt` from the `rdkit.Chem.Descriptors` module on a mol object obtained from a smiles. By using apply, we can efficiently add a new column to our dataset with the molecular weight (MW) information."
      ],
      "id": "FudgOKshr7H-"
    },
    {
      "cell_type": "code",
      "execution_count": null,
      "metadata": {
        "id": "RzuIrJGkyPWl"
      },
      "outputs": [],
      "source": [
        "#@title Get MW in carcinogenicity_df example\n",
        "\n",
        "# Import the MolWt function\n",
        "from rdkit.Chem.Descriptors import MolWt\n",
        "\n",
        "# Function to calculate MW from SMILES\n",
        "def calc_mw(row):\n",
        "  smiles=row['SMILES']\n",
        "  return MolWt(Chem.MolFromSmiles(smiles))\n",
        "\n",
        "# Apply the function to the DataFrame\n",
        "carcinogenicity_df[\"MW\"] = carcinogenicity_df.apply(calc_mw, axis=1)\n",
        "\n",
        "# Visualize the top 5 rows of the DataFrame\n",
        "carcinogenicity_df.head()"
      ],
      "id": "RzuIrJGkyPWl"
    },
    {
      "cell_type": "markdown",
      "metadata": {
        "id": "IF31FrCCtG3C"
      },
      "source": [
        "Now, usint the `MolLogP` function from the same `Descriptors` module, use a similar script to get a new column called LogP in the `carcinogenicity_df`:"
      ],
      "id": "IF31FrCCtG3C"
    },
    {
      "cell_type": "code",
      "execution_count": null,
      "metadata": {
        "id": "wFHs741QuLL8"
      },
      "outputs": [],
      "source": [
        "#@title Get LogP in carcinogenicity_df exercise\n",
        "\n",
        "# WRITE YOUR CODE HERE\n",
        "\n",
        "# Import the ExactMolWt function\n",
        "\n",
        "\n",
        "# Function to calculate LogP from SMILES\n",
        "\n",
        "\n",
        "\n",
        "\n",
        "# Apply the function to the DataFrame\n",
        "\n",
        "\n",
        "# Visualize the top 5 rows of the DataFrame\n"
      ],
      "id": "wFHs741QuLL8"
    },
    {
      "cell_type": "markdown",
      "metadata": {
        "id": "QptfBexwuhp0"
      },
      "source": [
        "Finally, filter the `carcinogenicity_df` so that you keep only the molecules with MW below 300 and LogP below 4:"
      ],
      "id": "QptfBexwuhp0"
    },
    {
      "cell_type": "code",
      "execution_count": null,
      "metadata": {
        "id": "Pg6oaqL2vKah"
      },
      "outputs": [],
      "source": [
        "#@title Filter df according to MW and LogP exercise\n",
        "\n",
        "# WRITE YOUR CODE HERE"
      ],
      "id": "Pg6oaqL2vKah"
    },
    {
      "cell_type": "markdown",
      "metadata": {
        "id": "XL-V87tZvVnu"
      },
      "source": [
        "### **Q5.** How many molecules remain in the final DataFrame?"
      ],
      "id": "XL-V87tZvVnu"
    },
    {
      "cell_type": "markdown",
      "metadata": {
        "id": "7e85abef"
      },
      "source": [
        "Export the final DataFrame in .csv format."
      ],
      "id": "7e85abef"
    },
    {
      "cell_type": "code",
      "execution_count": null,
      "metadata": {
        "id": "ZJliNNkrnEVK"
      },
      "outputs": [],
      "source": [
        "#@title Save DataFrame exercise\n",
        "\n",
        "# WRITE YOUR CODE HERE"
      ],
      "id": "ZJliNNkrnEVK"
    }
  ],
  "metadata": {
    "colab": {
      "provenance": [],
      "toc_visible": true,
      "include_colab_link": true
    },
    "kernelspec": {
      "display_name": "Python 3",
      "language": "python",
      "name": "python3"
    },
    "language_info": {
      "codemirror_mode": {
        "name": "ipython",
        "version": 3
      },
      "file_extension": ".py",
      "mimetype": "text/x-python",
      "name": "python",
      "nbconvert_exporter": "python",
      "pygments_lexer": "ipython3",
      "version": "3.7.11"
    }
  },
  "nbformat": 4,
  "nbformat_minor": 5
}